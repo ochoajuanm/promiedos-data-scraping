{
 "cells": [
  {
   "cell_type": "code",
   "execution_count": 1,
   "metadata": {},
   "outputs": [],
   "source": [
    "from bs4 import BeautifulSoup\n",
    "import requests"
   ]
  },
  {
   "cell_type": "code",
   "execution_count": 2,
   "metadata": {},
   "outputs": [],
   "source": [
    "page = requests.get('https://www.promiedos.com.ar/ayer')\n",
    "soup = BeautifulSoup(page.text, 'html.parser')\n",
    "tables = soup.find_all(id=\"fixturein\")\n",
    "    "
   ]
  },
  {
   "cell_type": "code",
   "execution_count": 5,
   "metadata": {},
   "outputs": [
    {
     "name": "stdout",
     "output_type": "stream",
     "text": [
      "<div id=\"fixturein\">\n",
      " <table cellspacing=\"0\">\n",
      "  <tr>\n",
      "   <td class=\"game-time\">\n",
      "   </td>\n",
      "   <td class=\"game-t1\">\n",
      "   </td>\n",
      "   <td class=\"game-r1\">\n",
      "   </td>\n",
      "   <td class=\"game-r2\">\n",
      "   </td>\n",
      "   <td class=\"game-t2\">\n",
      "   </td>\n",
      "   <td class=\"game-info\">\n",
      "   </td>\n",
      "  </tr>\n",
      "  <tr class=\"tituloin\">\n",
      "   <td colspan=\"6\">\n",
      "    <a href=\"copadeliga\">\n",
      "     <img src=\"images/paises/ar.png\"/>\n",
      "     COPA DE LA LIGA\n",
      "     <img src=\"images/paises/ar.png\"/>\n",
      "    </a>\n",
      "   </td>\n",
      "  </tr>\n",
      "  <tr class=\"diapart\">\n",
      "   <td colspan=\"6\">\n",
      "    Ayer\n",
      "   </td>\n",
      "  </tr>\n",
      "  <tr class=\"choy\" id=\"choy_1_245\" name=\"nvp\">\n",
      "   <td colspan=\"6\">\n",
      "    Final Copa de la Liga\n",
      "   </td>\n",
      "  </tr>\n",
      "  <tr id=\"1_245\" name=\"nvp\">\n",
      "   <td class=\"game-fin\" id=\"ti_1_245\">\n",
      "    Final\n",
      "   </td>\n",
      "   <td class=\"game-t1\">\n",
      "    <img src=\"images/18/6.png\"/>\n",
      "    <br/>\n",
      "    <span class=\"datoequipo\" id=\"t1_1_245\">\n",
      "     Boca Juniors\n",
      "    </span>\n",
      "   </td>\n",
      "   <td class=\"game-r1\" id=\"resu1_1_245\">\n",
      "    <div class=\"rojas1\" id=\"roj1_1_245\">\n",
      "    </div>\n",
      "    <span id=\"r1_1_245\">\n",
      "     3\n",
      "    </span>\n",
      "   </td>\n",
      "   <td class=\"game-r2\" id=\"resu2_1_245\">\n",
      "    <span id=\"r2_1_245\">\n",
      "     0\n",
      "    </span>\n",
      "    <div class=\"rojas2\" id=\"roj2_1_245\">\n",
      "    </div>\n",
      "   </td>\n",
      "   <td class=\"game-t1\">\n",
      "    <img src=\"images/18/20.png\"/>\n",
      "    <br/>\n",
      "    <span class=\"datoequipo\" id=\"t2_1_245\">\n",
      "     Tigre\n",
      "    </span>\n",
      "   </td>\n",
      "   <td class=\"game-info\" id=\"for_1_245\">\n",
      "    <a href=\"ficha=xjxjgzpnxjz&amp;v=FlAA-RhkDjE\">\n",
      "     <i class=\"material-icons md-18\" id=\"inf\">\n",
      "      add_box\n",
      "     </i>\n",
      "     <i class=\"material-icons md-18\" id=\"tva\">\n",
      "      video_library\n",
      "     </i>\n",
      "    </a>\n",
      "   </td>\n",
      "   <tr class=\"goles\" id=\"gole_1_245\" name=\"nvp\">\n",
      "    <td colspan=\"3\" id=\"g1_1_245\">\n",
      "     <i>\n",
      "      45(+3)'\n",
      "     </i>\n",
      "     M. Rojo;\n",
      "     <i>\n",
      "      67'\n",
      "     </i>\n",
      "     F. Fabra;\n",
      "     <i>\n",
      "      85'\n",
      "     </i>\n",
      "     L. Vazquez;\n",
      "    </td>\n",
      "    <td colspan=\"3\" id=\"g2_1_245\">\n",
      "    </td>\n",
      "   </tr>\n",
      "  </tr>\n",
      " </table>\n",
      "</div>\n",
      "\n"
     ]
    }
   ],
   "source": [
    "print(tables[0].prettify())"
   ]
  }
 ],
 "metadata": {
  "interpreter": {
   "hash": "133c366cf01aa17a8f2efb1a9d9ae1952a830cbc7e6f373b97fce835e6c6a8f1"
  },
  "kernelspec": {
   "display_name": "Python 3.8.10 ('.venv': venv)",
   "language": "python",
   "name": "python3"
  },
  "language_info": {
   "codemirror_mode": {
    "name": "ipython",
    "version": 3
   },
   "file_extension": ".py",
   "mimetype": "text/x-python",
   "name": "python",
   "nbconvert_exporter": "python",
   "pygments_lexer": "ipython3",
   "version": "3.8.10"
  },
  "orig_nbformat": 4
 },
 "nbformat": 4,
 "nbformat_minor": 2
}
